{
 "cells": [
  {
   "cell_type": "markdown",
   "metadata": {},
   "source": [
    "# ADTA 5900.701: CNN on CIFAR-10: Final Project\n",
    "\n",
    "## PART III: Build, Train, and Test CNN on CIFAR-10 Dataset"
   ]
  },
  {
   "cell_type": "markdown",
   "metadata": {},
   "source": [
    "## Set Path for Data Folder"
   ]
  },
  {
   "cell_type": "code",
   "execution_count": 1,
   "metadata": {},
   "outputs": [],
   "source": [
    " # Put file path as a string here\n",
    "\n",
    "CIFAR_DIR = 'CIFAR_10_DATA/'"
   ]
  },
  {
   "cell_type": "markdown",
   "metadata": {},
   "source": [
    "## Load Data"
   ]
  },
  {
   "cell_type": "code",
   "execution_count": 2,
   "metadata": {},
   "outputs": [],
   "source": [
    "def unpickle(file):\n",
    "    import pickle\n",
    "    with open(file, 'rb') as fo:\n",
    "        cifar_dict = pickle.load(fo, encoding='bytes')\n",
    "    return cifar_dict"
   ]
  },
  {
   "cell_type": "code",
   "execution_count": 3,
   "metadata": {},
   "outputs": [],
   "source": [
    "dirs = ['batches.meta','data_batch_1','data_batch_2','data_batch_3','data_batch_4','data_batch_5','test_batch']\n",
    "\n",
    "all_data = [0,1,2,3,4,5,6]\n",
    "\n",
    "for i,direc in zip(all_data,dirs):\n",
    "    all_data[i] = unpickle(CIFAR_DIR+direc)"
   ]
  },
  {
   "cell_type": "code",
   "execution_count": 4,
   "metadata": {},
   "outputs": [],
   "source": [
    "batch_meta = all_data[0]\n",
    "data_batch1 = all_data[1]\n",
    "data_batch2 = all_data[2]\n",
    "data_batch3 = all_data[3]\n",
    "data_batch4 = all_data[4]\n",
    "data_batch5 = all_data[5]\n",
    "test_batch = all_data[6]"
   ]
  },
  {
   "cell_type": "code",
   "execution_count": 5,
   "metadata": {},
   "outputs": [
    {
     "data": {
      "text/plain": [
       "{b'label_names': [b'airplane',\n",
       "  b'automobile',\n",
       "  b'bird',\n",
       "  b'cat',\n",
       "  b'deer',\n",
       "  b'dog',\n",
       "  b'frog',\n",
       "  b'horse',\n",
       "  b'ship',\n",
       "  b'truck'],\n",
       " b'num_cases_per_batch': 10000,\n",
       " b'num_vis': 3072}"
      ]
     },
     "execution_count": 5,
     "metadata": {},
     "output_type": "execute_result"
    }
   ],
   "source": [
    "batch_meta"
   ]
  },
  {
   "cell_type": "code",
   "execution_count": 6,
   "metadata": {},
   "outputs": [
    {
     "data": {
      "text/plain": [
       "dict_keys([b'labels', b'data', b'batch_label', b'filenames'])"
      ]
     },
     "execution_count": 6,
     "metadata": {},
     "output_type": "execute_result"
    }
   ],
   "source": [
    "data_batch1.keys()"
   ]
  },
  {
   "cell_type": "markdown",
   "metadata": {},
   "source": [
    "The batch files contain a dictionary with the following elements:\n",
    "\n",
    "data: a 10000×3072 numpy array of uint8s. Each row of the array stores a 32×32 colour image. The first 1024 entries contain the red channel values, the next 1024 the green, and the final 1024 the blue. The image is stored in row-major order, so that the first 32 entries of the array are the red channel values of the first row of the image.\n",
    "labels: a list of 10000 numbers in the range 0-9. The number at index i indicates the label of the ith image in the array data."
   ]
  },
  {
   "cell_type": "markdown",
   "metadata": {},
   "source": [
    "## Display several examples of single images using matplotlib "
   ]
  },
  {
   "cell_type": "code",
   "execution_count": 7,
   "metadata": {},
   "outputs": [],
   "source": [
    "import matplotlib.pyplot as plt\n",
    "%matplotlib inline\n",
    "\n",
    "import numpy as np"
   ]
  },
  {
   "cell_type": "code",
   "execution_count": 8,
   "metadata": {},
   "outputs": [],
   "source": [
    "X = data_batch1[b\"data\"] "
   ]
  },
  {
   "cell_type": "code",
   "execution_count": 9,
   "metadata": {},
   "outputs": [],
   "source": [
    "X = X.reshape(10000, 3, 32, 32).transpose(0,2,3,1).astype(\"uint8\")"
   ]
  },
  {
   "cell_type": "code",
   "execution_count": 10,
   "metadata": {},
   "outputs": [
    {
     "data": {
      "text/plain": [
       "255"
      ]
     },
     "execution_count": 10,
     "metadata": {},
     "output_type": "execute_result"
    }
   ],
   "source": [
    "X[0].max()"
   ]
  },
  {
   "cell_type": "code",
   "execution_count": 11,
   "metadata": {},
   "outputs": [
    {
     "data": {
      "text/plain": [
       "1.0"
      ]
     },
     "execution_count": 11,
     "metadata": {},
     "output_type": "execute_result"
    }
   ],
   "source": [
    "(X[0]/255).max()"
   ]
  },
  {
   "cell_type": "code",
   "execution_count": 12,
   "metadata": {},
   "outputs": [
    {
     "data": {
      "text/plain": [
       "<matplotlib.image.AxesImage at 0x7fc7e2abe5c0>"
      ]
     },
     "execution_count": 12,
     "metadata": {},
     "output_type": "execute_result"
    },
    {
     "data": {
      "image/png": "[encoded data removed]",
      "text/plain": [
       "<Figure size 432x288 with 1 Axes>"
      ]
     },
     "metadata": {},
     "output_type": "display_data"
    }
   ],
   "source": [
    "plt.imshow(X[0])"
   ]
  },
  {
   "cell_type": "code",
   "execution_count": 13,
   "metadata": {},
   "outputs": [
    {
     "data": {
      "text/plain": [
       "<matplotlib.image.AxesImage at 0x7fc7e2a31278>"
      ]
     },
     "execution_count": 13,
     "metadata": {},
     "output_type": "execute_result"
    },
    {
     "data": {
      "image/png": "[encoded data removed]",
      "text/plain": [
       "<Figure size 432x288 with 1 Axes>"
      ]
     },
     "metadata": {},
     "output_type": "display_data"
    }
   ],
   "source": [
    "plt.imshow(X[1])"
   ]
  },
  {
   "cell_type": "code",
   "execution_count": 14,
   "metadata": {},
   "outputs": [
    {
     "data": {
      "text/plain": [
       "<matplotlib.image.AxesImage at 0x7fc7e29f1cf8>"
      ]
     },
     "execution_count": 14,
     "metadata": {},
     "output_type": "execute_result"
    },
    {
     "data": {
      "image/png": "[encoded data removed]",
      "text/plain": [
       "<Figure size 432x288 with 1 Axes>"
      ]
     },
     "metadata": {},
     "output_type": "display_data"
    }
   ],
   "source": [
    "plt.imshow(X[4])"
   ]
  },
  {
   "cell_type": "markdown",
   "metadata": {},
   "source": [
    "## Supporting Functions to Rearrange Data"
   ]
  },
  {
   "cell_type": "markdown",
   "metadata": {},
   "source": [
    "### Encode Labels into One-Hot Format"
   ]
  },
  {
   "cell_type": "code",
   "execution_count": 15,
   "metadata": {},
   "outputs": [],
   "source": [
    "def one_hot_encode(vec, vals=10):\n",
    "    '''\n",
    "    For use to one-hot encode the 10- possible labels\n",
    "    '''\n",
    "    n = len(vec)\n",
    "    out = np.zeros((n, vals))\n",
    "    out[range(n), vec] = 1\n",
    "    return out"
   ]
  },
  {
   "cell_type": "markdown",
   "metadata": {},
   "source": [
    "## Define Supporting Functions to Build, Train, and Test CNN Model"
   ]
  },
  {
   "cell_type": "markdown",
   "metadata": {
    "collapsed": true
   },
   "source": [
    "#### Initialize Weights in Filter"
   ]
  },
  {
   "cell_type": "code",
   "execution_count": 16,
   "metadata": {},
   "outputs": [],
   "source": [
    "# This function returns a tf.Variable used to store weights in a filter\n",
    "# This variable is initialized with values that can be used to initialize weights\n",
    "# The values are random numbers\n",
    "\n",
    "def initialize_weights(filter_shape):\n",
    "    init_random_dist =tf.truncated_normal(filter_shape, stddev=0.1)\n",
    "    return (tf.Variable(init_random_dist) )"
   ]
  },
  {
   "cell_type": "markdown",
   "metadata": {
    "collapsed": true
   },
   "source": [
    "#### Initialize Bias"
   ]
  },
  {
   "cell_type": "code",
   "execution_count": 17,
   "metadata": {},
   "outputs": [],
   "source": [
    "# This function returns a tf.Variable used to store bias\n",
    "# This variable is initialized with values that can be used to initialize bias\n",
    "# The value is initialized to 0.1\n",
    "\n",
    "def initialize_bias(bias_shape):\n",
    "    init_bias_vals =tf.constant(0.1, shape=bias_shape)\n",
    "    return (tf.Variable(init_bias_vals) )"
   ]
  },
  {
   "cell_type": "markdown",
   "metadata": {},
   "source": [
    "#### Setup Convolutional Layer and Perform Convolution Computation : Dot Product (x * W)"
   ]
  },
  {
   "cell_type": "code",
   "execution_count": 18,
   "metadata": {},
   "outputs": [],
   "source": [
    "# Define a function to setup a convolutional layer (conv 2d)\n",
    "# Parameters:\n",
    "# ..) Inputs : [batch, H, W, Channels]\n",
    "#..) filter_shape:\n",
    "#[filter H, filter W, in_channels(in_depth=in_num_filters),out_channels(out_depth=out_num_filters)]\n",
    "# for example : [5,5,1,32]\n",
    "# Return : Outputs of the layer:The dot_product(inputs, filter_shape):\n",
    "\n",
    "def create_convolution_layer_and_compute_dot_product(inputs,filter_shape):\n",
    "    filter_initialized_with_weights= initialize_weights(filter_shape)\n",
    "    conv_layer_outputs=tf.nn.conv2d(inputs,filter_initialized_with_weights,strides=[1,1,1,1],padding='SAME')\n",
    "    return(conv_layer_outputs)"
   ]
  },
  {
   "cell_type": "markdown",
   "metadata": {},
   "source": [
    "#### Setup a ReLU Layer and Perform Computation : Dot Product + Bias (x .W+b)"
   ]
  },
  {
   "cell_type": "code",
   "execution_count": 19,
   "metadata": {},
   "outputs": [],
   "source": [
    "# Define a function\n",
    "#..) First,  to setup a reLU layer: an activation function layer\n",
    "#..) Then, perform the computation : dot product +bias (x * w) +b\n",
    "# ReLU : Rectified Linear Unit - a popular activation function in CNN\n",
    "# In this layer, the bias has been initialized\n",
    "\n",
    "# Parameters:\n",
    "# ..) Inputs : Outputs from the preceding convolution layer : Dot product inputs*weights\n",
    "# ..) filter_shape\n",
    "#[filter H, filter W, in_channels(in_depth=in_num_filters),out_channels(out_depth=out_num_filters)]\n",
    "# for example : [5,5,1,32]\n",
    "# Return : Outputs of the layer: dot product +b : (x *W)+ b\n",
    "\n",
    "\n",
    "def create_relu_layer_and_compute_dot_product_plus_b(inputs,filter_shape):\n",
    "    b=initialize_bias( [filter_shape[3] ])\n",
    "    relu_layer_outputs=tf.nn.relu(inputs + b)\n",
    "    return(relu_layer_outputs)"
   ]
  },
  {
   "cell_type": "markdown",
   "metadata": {},
   "source": [
    "#### Setup a Pooling Layer and Reduce Spatial Size"
   ]
  },
  {
   "cell_type": "code",
   "execution_count": 20,
   "metadata": {},
   "outputs": [],
   "source": [
    "# Define a function\n",
    "#..) First,  to create a pooling layer\n",
    "#..) Then, to reduce the spatial size of the inputs data\n",
    "\n",
    "# Pooling Method : Max Pooling\n",
    "# Kernel size : 2 X 2\n",
    "# Stride : 2\n",
    "\n",
    "# Parameters:\n",
    "# ..) Inputs : Outputs from the preceding layer \n",
    "# ..) Return : Outputs of the layer\n",
    "\n",
    "def create_maxpool2by2_and_reduce_spatial_size(inputs):\n",
    "    pooling_layer_outputs = tf.nn.max_pool(inputs, ksize=[1,2,2,1],strides=[1,2,2,1],padding='SAME')\n",
    "    return(pooling_layer_outputs)\n",
    "                                    "
   ]
  },
  {
   "cell_type": "markdown",
   "metadata": {},
   "source": [
    "#### Setup Fully Connected Layer and Perform Computation:(inputs * Weights) +Bias"
   ]
  },
  {
   "cell_type": "code",
   "execution_count": 21,
   "metadata": {},
   "outputs": [],
   "source": [
    "# Define a function to set up a fully connected layer\n",
    "# Also perform computation: (Dot Product (inputs*weights))+ bias\n",
    "# Return the results\n",
    "# Parameters:\n",
    "#..) inputs:  Outputs of the preceding layer\n",
    "#..) size: The size of the outputs, t.e. number of out_channels\n",
    "\n",
    "def create_fully_connected_layer_and_compute_dotproduct_plus_bias (inputs, output_size):\n",
    "    input_size = int(inputs.get_shape() [1] )\n",
    "    W = initialize_weights([input_size, output_size ] )\n",
    "    b = initialize_bias ([output_size])\n",
    "    fc_xW_plus_bias_outputs = tf.matmul(inputs, W) + b\n",
    "    return(fc_xW_plus_bias_outputs)"
   ]
  },
  {
   "cell_type": "markdown",
   "metadata": {},
   "source": [
    "# PHASE I: Build Convolutional Neural Network"
   ]
  },
  {
   "cell_type": "code",
   "execution_count": 22,
   "metadata": {},
   "outputs": [],
   "source": [
    "import tensorflow as tf"
   ]
  },
  {
   "cell_type": "markdown",
   "metadata": {},
   "source": [
    "## Create Placeholders for Inputs and Labels: x and y_true"
   ]
  },
  {
   "cell_type": "code",
   "execution_count": 23,
   "metadata": {},
   "outputs": [],
   "source": [
    "# PLACEHOLDER\n",
    "\n",
    "# Create a placeholder for the inputs data: x\n",
    "# x: a 2D array\n",
    "# x: a placeholder that can hold any number of rows/record\n",
    "\n",
    "x = tf.placeholder(tf.float32, shape=[None, 32, 32, 3])"
   ]
  },
  {
   "cell_type": "code",
   "execution_count": 24,
   "metadata": {},
   "outputs": [],
   "source": [
    "# PLACEHOLDER\n",
    "\n",
    "# Create a placeholder for the labels of the inputs data: y_true\n",
    "# y_true: a 2D array\n",
    "# y_true: Can hold any number of rows/records\n",
    "\n",
    "y_true = tf.placeholder(tf.float32, [None, 10])"
   ]
  },
  {
   "cell_type": "markdown",
   "metadata": {},
   "source": [
    "## Set Up Image Data: Make it Ready to be Fed into 1st Conv Layer"
   ]
  },
  {
   "cell_type": "code",
   "execution_count": 47,
   "metadata": {},
   "outputs": [],
   "source": [
    "class CifarHelper():\n",
    "    \n",
    "    def __init__(self):\n",
    "        self.i = 0\n",
    "        \n",
    "        ## Grabbing all the data batches\n",
    "        \n",
    "        self.all_train_batches = [data_batch1,data_batch2,data_batch3,data_batch4,data_batch5]\n",
    "        self.test_batch = [test_batch]\n",
    "        \n",
    "        ## Initializing empty variables\n",
    "        \n",
    "        self.training_images = None\n",
    "        self.training_labels = None\n",
    "        \n",
    "        self.test_images = None\n",
    "        self.test_labels = None\n",
    "    \n",
    "    def set_up_images(self):\n",
    "        \n",
    "        print(\"Setting Up Training Images and Labels\")\n",
    "        \n",
    "         # Stacking training images vertically\n",
    "        self.training_images = np.vstack([d[b\"data\"] for d in self.all_train_batches])\n",
    "        train_len = len(self.training_images)\n",
    "        \n",
    "        # Reshaping and normalizing of training images\n",
    "        self.training_images = self.training_images.reshape(train_len,3,32,32).transpose(0,2,3,1)/255\n",
    "        \n",
    "        # Encoding the training labels\n",
    "        self.training_labels = one_hot_encode(np.hstack([d[b\"labels\"] for d in self.all_train_batches]), 10)\n",
    "        \n",
    "        print(\"Setting Up Test Images and Labels\")\n",
    "        \n",
    "        # Stacking test images vertically\n",
    "        \n",
    "        self.test_images = np.vstack([d[b\"data\"] for d in self.test_batch])\n",
    "        test_len = len(self.test_images)\n",
    "        \n",
    "        # Reshaping and normalizing of test images\n",
    "        self.test_images = self.test_images.reshape(test_len,3,32,32).transpose(0,2,3,1)/255\n",
    "        \n",
    "         # Encoding the test labels\n",
    "        self.test_labels = one_hot_encode(np.hstack([d[b\"labels\"] for d in self.test_batch]), 10)\n",
    "\n",
    "        \n",
    "    def next_batch(self, batch_size):\n",
    "        x = self.training_images[self.i:self.i+batch_size].reshape(100,32,32,3)\n",
    "        y = self.training_labels[self.i:self.i+batch_size]\n",
    "        self.i = (self.i + batch_size) % len(self.training_images)\n",
    "        return x, y\n"
   ]
  },
  {
   "cell_type": "markdown",
   "metadata": {},
   "source": [
    "## Reshape the Input Placeholder x: NOT NEED TO RESHAPE DATA HERE"
   ]
  },
  {
   "cell_type": "markdown",
   "metadata": {
    "collapsed": true
   },
   "source": [
    "#### DO NOTHING -- DON'T NEED TO RESHAPE - DATA IS ALREADY IN GOOD SHAPE TO BE FED INTO 1ST CONVOLUTION LAYER"
   ]
  },
  {
   "cell_type": "markdown",
   "metadata": {},
   "source": [
    "## Create 1st Convolution Layer and so on ............."
   ]
  },
  {
   "cell_type": "code",
   "execution_count": 30,
   "metadata": {},
   "outputs": [],
   "source": [
    "# Create the 1st convolution layer\n",
    "# 2D data size : 32 * 32\n",
    "# Inputs: x, 32*32*3 ( 3 in_channels)\n",
    "# Output shape: 32*32*32(Depth =32 out-channels)\n",
    "# Filter size = 4*4\n",
    "# filter _shape : weight shape[4,4,3,32]\n",
    "# stride = 1\n",
    "# stride shape : [1,1,1,1]\n",
    "# Padding = SAME\n",
    "\n",
    "\n",
    "# Create the 1st convolution layer\n",
    "# Then learn/extract the features, get the results (outputs) : Dot product of inputs*weights\n",
    "# Return the outputs of the layer\n",
    "\n",
    "conv_layer_1_outputs \\\n",
    "  =create_convolution_layer_and_compute_dot_product(x,filter_shape=[4,4,3,32])"
   ]
  },
  {
   "cell_type": "markdown",
   "metadata": {
    "collapsed": true
   },
   "source": [
    "#### Create the ReLU layer for the 1st convolution layer"
   ]
  },
  {
   "cell_type": "code",
   "execution_count": 31,
   "metadata": {},
   "outputs": [],
   "source": [
    "# Accept the outputs from the 1st conv layer as the inputs\n",
    "# Perform the computation at the layer : add inputs+ bias\n",
    "# Return the outputs of the layer\n",
    "\n",
    "conv_relu_layer_1_outputs \\\n",
    "  =create_relu_layer_and_compute_dot_product_plus_b(conv_layer_1_outputs,filter_shape=[4,4,3,32])\n"
   ]
  },
  {
   "cell_type": "markdown",
   "metadata": {},
   "source": [
    "#### Create 1st Pooling Layer and reduce spatial size"
   ]
  },
  {
   "cell_type": "code",
   "execution_count": 32,
   "metadata": {},
   "outputs": [],
   "source": [
    "# Create the 1st pooling layer\n",
    "# Then reduce the spatial size of the input data\n",
    "# Return : Outputs of the layer\n",
    "pooling_layer_1_outputs=create_maxpool2by2_and_reduce_spatial_size(conv_relu_layer_1_outputs)"
   ]
  },
  {
   "cell_type": "markdown",
   "metadata": {},
   "source": [
    "#### Create 2nd Convolutional layer, ReLU layer, and perform computation : x * w+ b"
   ]
  },
  {
   "cell_type": "code",
   "execution_count": 33,
   "metadata": {},
   "outputs": [],
   "source": [
    "# Create the 2nd convolution layer\n",
    "# 2D data size : 16 * 16\n",
    "# Input shape: 16*16*32 ( 32 in_channels)\n",
    "# Output shape: 16*16*64(Depth =64 out-channels)\n",
    "# Filter size = 4*4\n",
    "# filter _shape : weight shape[4,4,32,64]\n",
    "# stride = 1\n",
    "# stride shape : [1,1,1,1]\n",
    "# Padding = SAME\n",
    "\n",
    "# Create the 2nd convolution layer\n",
    "# Then learn/extract the features, get the results (outputs) : Dot product of inputs*weights\n",
    "# Return the outputs of the layer\n",
    "\n",
    "conv_layer_2_outputs \\\n",
    "  =create_convolution_layer_and_compute_dot_product(pooling_layer_1_outputs,filter_shape=[4,4,32,64])"
   ]
  },
  {
   "cell_type": "markdown",
   "metadata": {},
   "source": [
    "#### Create the ReLU layer for the 2nd convolution layer"
   ]
  },
  {
   "cell_type": "code",
   "execution_count": 34,
   "metadata": {},
   "outputs": [],
   "source": [
    "# Accept the outputs from the 2nd conv layer as the inputs\n",
    "# Perform the computation at the layer : add inputs+ bias\n",
    "# Return the outputs of the layer\n",
    "\n",
    "conv_relu_layer_2_outputs \\\n",
    "  =create_relu_layer_and_compute_dot_product_plus_b(conv_layer_2_outputs,filter_shape=[4,4,32,64])"
   ]
  },
  {
   "cell_type": "markdown",
   "metadata": {},
   "source": [
    "#### Create 2nd Pooling Layer and reduce spatial size"
   ]
  },
  {
   "cell_type": "code",
   "execution_count": 35,
   "metadata": {},
   "outputs": [],
   "source": [
    "# Create the 2nd pooling layer\n",
    "# Then reduce the spatial size of the input data\n",
    "# Return : Outputs of the layer\n",
    "\n",
    "pooling_layer_2_outputs=create_maxpool2by2_and_reduce_spatial_size(conv_relu_layer_2_outputs)"
   ]
  },
  {
   "cell_type": "markdown",
   "metadata": {},
   "source": [
    "#### Reshape/Flatten Data Making it Ready to be Def into 1st FC layer"
   ]
  },
  {
   "cell_type": "code",
   "execution_count": 36,
   "metadata": {},
   "outputs": [],
   "source": [
    "# Reshape and flatten the output of the 2nd pooling layer\n",
    "# Prepare to feed the output data into the 1st fully connected layer\n",
    "\n",
    "pooling_layer_2_outputs_flat=tf.reshape(pooling_layer_2_outputs,[-1, 8*8*64])"
   ]
  },
  {
   "cell_type": "markdown",
   "metadata": {},
   "source": [
    "#### Create 1st FC Layer, ReLU Layer, and output Data to Dropout Layer"
   ]
  },
  {
   "cell_type": "code",
   "execution_count": 37,
   "metadata": {},
   "outputs": [],
   "source": [
    "# First create  the FC (Fully Connected ) layer\n",
    "# Feed the output(already flattened ) of the 2nd pooling layer as the inputs into this layer\n",
    "# Then perform the computation : dot product _bias ( x *W) + b\n",
    "\n",
    "# Parameters:\n",
    "# ..) pooling_layer_2_outputs_flat\n",
    "# ..) output_size: 1024 out channels\n",
    "\n",
    "# Return: Outputs of the computation (x*W)_b\n",
    "\n",
    "fc_layer_1_outputs \\\n",
    "=create_fully_connected_layer_and_compute_dotproduct_plus_bias(pooling_layer_2_outputs_flat,\n",
    "output_size =1024)\n",
    "\n",
    "# Return: Outputs of the layer\n",
    "fc_relu_layer_1_outputs=tf.nn.relu(fc_layer_1_outputs)"
   ]
  },
  {
   "cell_type": "markdown",
   "metadata": {},
   "source": [
    "#### Create Dropout Layer and Dropout of Outputs Randomly"
   ]
  },
  {
   "cell_type": "code",
   "execution_count": 38,
   "metadata": {},
   "outputs": [],
   "source": [
    "# Declare a placeholder to hold the value of probability (percentage x) to keep:\n",
    "# i.e. the % of total output channels that will be kept\n",
    "# e.g. keep_prob=hold_prob= 50% —> keep 50 %..> Dropout 50%\n",
    "# which nodes/channels to keep or dropout : selected randomly\n",
    "\n",
    "hold_prob= tf.placeholder (tf.float32)\n",
    "\n",
    "# Dropout\n",
    "# set the outputs to 0 (zero) so that they will be ignored in the next layer\n",
    "\n",
    "fc_dropouts_outputs=tf.nn.dropout(fc_relu_layer_1_outputs, keep_prob=hold_prob)\n"
   ]
  },
  {
   "cell_type": "markdown",
   "metadata": {},
   "source": [
    "#### Create Final FC Layer, Compute (x.W_b) and produce final outputs"
   ]
  },
  {
   "cell_type": "code",
   "execution_count": 39,
   "metadata": {},
   "outputs": [],
   "source": [
    "# Create the final FC layer\n",
    "# Then compute: x*W_b\n",
    "# parameters:\n",
    "# ..) fc_dropouts_outputs : Outputs from the dropout  layer\n",
    "# ..)\n",
    "\n",
    "# Return y_pred: final predicted outputs, I.e., final classification outputs\n",
    "\n",
    "y_pred = create_fully_connected_layer_and_compute_dotproduct_plus_bias(fc_dropouts_outputs,output_size=10)"
   ]
  },
  {
   "cell_type": "markdown",
   "metadata": {},
   "source": [
    "#### Define Loss Function and Calculate Softmax Cross Entropy Loss"
   ]
  },
  {
   "cell_type": "code",
   "execution_count": 40,
   "metadata": {},
   "outputs": [
    {
     "name": "stdout",
     "output_type": "stream",
     "text": [
      "WARNING:tensorflow:From <ipython-input-40-209611ecbdd6>:5: softmax_cross_entropy_with_logits (from tensorflow.python.ops.nn_ops) is deprecated and will be removed in a future version.\n",
      "Instructions for updating:\n",
      "\n",
      "Future major versions of TensorFlow will allow gradients to flow\n",
      "into the labels input on backprop by default.\n",
      "\n",
      "See `tf.nn.softmax_cross_entropy_with_logits_v2`.\n",
      "\n"
     ]
    }
   ],
   "source": [
    "# Define loss function :cross-entropy with logins . i.e. with the final outputs\n",
    "# Calculate the softmax entropy loss\n",
    "\n",
    "\n",
    "softmax_cross_entropy_loss=tf.nn.softmax_cross_entropy_with_logits(labels=y_true, logits=y_pred)\n",
    "\n",
    "# Compute the means of losses\n",
    "\n",
    "cross_entropy_mean = tf.reduce_mean(softmax_cross_entropy_loss)"
   ]
  },
  {
   "cell_type": "markdown",
   "metadata": {},
   "source": [
    "#### Create an Optimizer to Optimize CNN Model and set learning rate"
   ]
  },
  {
   "cell_type": "code",
   "execution_count": 41,
   "metadata": {},
   "outputs": [],
   "source": [
    "# Get an ADAM optimizer\n",
    "\n",
    "optimizer = tf.train.AdamOptimizer(learning_rate=0.001)"
   ]
  },
  {
   "cell_type": "markdown",
   "metadata": {},
   "source": [
    "#### Create a Trainer to Train CNN Model\n",
    "\n"
   ]
  },
  {
   "cell_type": "code",
   "execution_count": 42,
   "metadata": {},
   "outputs": [],
   "source": [
    "cnn_trainer = optimizer.minimize (cross_entropy_mean)"
   ]
  },
  {
   "cell_type": "markdown",
   "metadata": {},
   "source": [
    "# PHASE II: Train and Test CNN Model on CIFAR-10 Dataset"
   ]
  },
  {
   "cell_type": "markdown",
   "metadata": {},
   "source": [
    "#### Create a variable initializer to initialize All Variables"
   ]
  },
  {
   "cell_type": "code",
   "execution_count": 48,
   "metadata": {},
   "outputs": [],
   "source": [
    "# Get a variable initializer\n",
    "\n",
    "vars_initializer = tf.global_variables_initializer()"
   ]
  },
  {
   "cell_type": "code",
   "execution_count": 49,
   "metadata": {},
   "outputs": [],
   "source": [
    "# x: 50000 images\n",
    "# Each time of training (run the whole process ) = 1 step\n",
    "# Each step, i.e., each time of training : Use one batch of inputs\n",
    "# batch size = 100 images —> Total number of batches : 50000/100 = 500 batches\n",
    "# steps = 10000: Finish the training after running 10000 times\n",
    "\n",
    "steps = 10000\n"
   ]
  },
  {
   "cell_type": "markdown",
   "metadata": {},
   "source": [
    "## Set up image data: Calling CifarHelper.set_up_images()"
   ]
  },
  {
   "cell_type": "code",
   "execution_count": 50,
   "metadata": {},
   "outputs": [
    {
     "name": "stdout",
     "output_type": "stream",
     "text": [
      "Setting Up Training Images and Labels\n",
      "Setting Up Test Images and Labels\n"
     ]
    }
   ],
   "source": [
    "# Before Your tf.Session run these two lines\n",
    "ch = CifarHelper()\n",
    "ch.set_up_images()\n"
   ]
  },
  {
   "cell_type": "markdown",
   "metadata": {},
   "source": [
    "#### Run tf.Session () to Train and test Deep Learning CNN Model"
   ]
  },
  {
   "cell_type": "code",
   "execution_count": 51,
   "metadata": {},
   "outputs": [
    {
     "name": "stdout",
     "output_type": "stream",
     "text": [
      "ON STEP: 0\n",
      "ACCURACY: \n",
      "0.1261\n",
      "\n",
      "\n",
      "ON STEP: 100\n",
      "ACCURACY: \n",
      "0.3954\n",
      "\n",
      "\n",
      "ON STEP: 200\n",
      "ACCURACY: \n",
      "0.4496\n",
      "\n",
      "\n",
      "ON STEP: 300\n",
      "ACCURACY: \n",
      "0.4898\n",
      "\n",
      "\n",
      "ON STEP: 400\n",
      "ACCURACY: \n",
      "0.5055\n",
      "\n",
      "\n",
      "ON STEP: 500\n",
      "ACCURACY: \n",
      "0.5363\n",
      "\n",
      "\n",
      "ON STEP: 600\n",
      "ACCURACY: \n",
      "0.5565\n",
      "\n",
      "\n",
      "ON STEP: 700\n",
      "ACCURACY: \n",
      "0.5578\n",
      "\n",
      "\n",
      "ON STEP: 800\n",
      "ACCURACY: \n",
      "0.5718\n",
      "\n",
      "\n",
      "ON STEP: 900\n",
      "ACCURACY: \n",
      "0.5756\n",
      "\n",
      "\n",
      "ON STEP: 1000\n",
      "ACCURACY: \n",
      "0.5892\n",
      "\n",
      "\n",
      "ON STEP: 1100\n",
      "ACCURACY: \n",
      "0.6106\n",
      "\n",
      "\n",
      "ON STEP: 1200\n",
      "ACCURACY: \n",
      "0.5963\n",
      "\n",
      "\n",
      "ON STEP: 1300\n",
      "ACCURACY: \n",
      "0.622\n",
      "\n",
      "\n",
      "ON STEP: 1400\n",
      "ACCURACY: \n",
      "0.6178\n",
      "\n",
      "\n",
      "ON STEP: 1500\n",
      "ACCURACY: \n",
      "0.6262\n",
      "\n",
      "\n",
      "ON STEP: 1600\n",
      "ACCURACY: \n",
      "0.6361\n",
      "\n",
      "\n",
      "ON STEP: 1700\n",
      "ACCURACY: \n",
      "0.6494\n",
      "\n",
      "\n",
      "ON STEP: 1800\n",
      "ACCURACY: \n",
      "0.6481\n",
      "\n",
      "\n",
      "ON STEP: 1900\n",
      "ACCURACY: \n",
      "0.6522\n",
      "\n",
      "\n",
      "ON STEP: 2000\n",
      "ACCURACY: \n",
      "0.6618\n",
      "\n",
      "\n",
      "ON STEP: 2100\n",
      "ACCURACY: \n",
      "0.6665\n",
      "\n",
      "\n",
      "ON STEP: 2200\n",
      "ACCURACY: \n",
      "0.6689\n",
      "\n",
      "\n",
      "ON STEP: 2300\n",
      "ACCURACY: \n",
      "0.6547\n",
      "\n",
      "\n",
      "ON STEP: 2400\n",
      "ACCURACY: \n",
      "0.664\n",
      "\n",
      "\n",
      "ON STEP: 2500\n",
      "ACCURACY: \n",
      "0.6635\n",
      "\n",
      "\n",
      "ON STEP: 2600\n",
      "ACCURACY: \n",
      "0.6643\n",
      "\n",
      "\n",
      "ON STEP: 2700\n",
      "ACCURACY: \n",
      "0.6695\n",
      "\n",
      "\n",
      "ON STEP: 2800\n",
      "ACCURACY: \n",
      "0.6686\n",
      "\n",
      "\n",
      "ON STEP: 2900\n",
      "ACCURACY: \n",
      "0.675\n",
      "\n",
      "\n",
      "ON STEP: 3000\n",
      "ACCURACY: \n",
      "0.6728\n",
      "\n",
      "\n",
      "ON STEP: 3100\n",
      "ACCURACY: \n",
      "0.679\n",
      "\n",
      "\n",
      "ON STEP: 3200\n",
      "ACCURACY: \n",
      "0.6767\n",
      "\n",
      "\n",
      "ON STEP: 3300\n",
      "ACCURACY: \n",
      "0.6732\n",
      "\n",
      "\n",
      "ON STEP: 3400\n",
      "ACCURACY: \n",
      "0.6777\n",
      "\n",
      "\n",
      "ON STEP: 3500\n",
      "ACCURACY: \n",
      "0.6821\n",
      "\n",
      "\n",
      "ON STEP: 3600\n",
      "ACCURACY: \n",
      "0.6731\n",
      "\n",
      "\n",
      "ON STEP: 3700\n",
      "ACCURACY: \n",
      "0.674\n",
      "\n",
      "\n",
      "ON STEP: 3800\n",
      "ACCURACY: \n",
      "0.6582\n",
      "\n",
      "\n",
      "ON STEP: 3900\n",
      "ACCURACY: \n",
      "0.6847\n",
      "\n",
      "\n",
      "ON STEP: 4000\n",
      "ACCURACY: \n",
      "0.6867\n",
      "\n",
      "\n",
      "ON STEP: 4100\n",
      "ACCURACY: \n",
      "0.6888\n",
      "\n",
      "\n",
      "ON STEP: 4200\n",
      "ACCURACY: \n",
      "0.6786\n",
      "\n",
      "\n",
      "ON STEP: 4300\n",
      "ACCURACY: \n",
      "0.6792\n",
      "\n",
      "\n",
      "ON STEP: 4400\n",
      "ACCURACY: \n",
      "0.6795\n",
      "\n",
      "\n",
      "ON STEP: 4500\n",
      "ACCURACY: \n",
      "0.6911\n",
      "\n",
      "\n",
      "ON STEP: 4600\n",
      "ACCURACY: \n",
      "0.6843\n",
      "\n",
      "\n",
      "ON STEP: 4700\n",
      "ACCURACY: \n",
      "0.6846\n",
      "\n",
      "\n",
      "ON STEP: 4800\n",
      "ACCURACY: \n",
      "0.6815\n",
      "\n",
      "\n",
      "ON STEP: 4900\n",
      "ACCURACY: \n",
      "0.6885\n",
      "\n",
      "\n",
      "ON STEP: 5000\n",
      "ACCURACY: \n",
      "0.704\n",
      "\n",
      "\n",
      "ON STEP: 5100\n",
      "ACCURACY: \n",
      "0.6884\n",
      "\n",
      "\n",
      "ON STEP: 5200\n",
      "ACCURACY: \n",
      "0.6927\n",
      "\n",
      "\n",
      "ON STEP: 5300\n",
      "ACCURACY: \n",
      "0.6739\n",
      "\n",
      "\n",
      "ON STEP: 5400\n",
      "ACCURACY: \n",
      "0.684\n",
      "\n",
      "\n",
      "ON STEP: 5500\n",
      "ACCURACY: \n",
      "0.6943\n",
      "\n",
      "\n",
      "ON STEP: 5600\n",
      "ACCURACY: \n",
      "0.7003\n",
      "\n",
      "\n",
      "ON STEP: 5700\n",
      "ACCURACY: \n",
      "0.6884\n",
      "\n",
      "\n",
      "ON STEP: 5800\n",
      "ACCURACY: \n",
      "0.6923\n",
      "\n",
      "\n",
      "ON STEP: 5900\n",
      "ACCURACY: \n",
      "0.6898\n",
      "\n",
      "\n",
      "ON STEP: 6000\n",
      "ACCURACY: \n",
      "0.6854\n",
      "\n",
      "\n",
      "ON STEP: 6100\n",
      "ACCURACY: \n",
      "0.7015\n",
      "\n",
      "\n",
      "ON STEP: 6200\n",
      "ACCURACY: \n",
      "0.6854\n",
      "\n",
      "\n",
      "ON STEP: 6300\n",
      "ACCURACY: \n",
      "0.6835\n",
      "\n",
      "\n",
      "ON STEP: 6400\n",
      "ACCURACY: \n",
      "0.6855\n",
      "\n",
      "\n",
      "ON STEP: 6500\n",
      "ACCURACY: \n",
      "0.6935\n",
      "\n",
      "\n",
      "ON STEP: 6600\n",
      "ACCURACY: \n",
      "0.6973\n",
      "\n",
      "\n",
      "ON STEP: 6700\n",
      "ACCURACY: \n",
      "0.6854\n",
      "\n",
      "\n",
      "ON STEP: 6800\n",
      "ACCURACY: \n",
      "0.6798\n",
      "\n",
      "\n",
      "ON STEP: 6900\n",
      "ACCURACY: \n",
      "0.6894\n",
      "\n",
      "\n",
      "ON STEP: 7000\n",
      "ACCURACY: \n",
      "0.6893\n",
      "\n",
      "\n",
      "ON STEP: 7100\n",
      "ACCURACY: \n",
      "0.6992\n",
      "\n",
      "\n",
      "ON STEP: 7200\n",
      "ACCURACY: \n",
      "0.6912\n",
      "\n",
      "\n",
      "ON STEP: 7300\n",
      "ACCURACY: \n",
      "0.6879\n",
      "\n",
      "\n",
      "ON STEP: 7400\n",
      "ACCURACY: \n",
      "0.6843\n",
      "\n",
      "\n",
      "ON STEP: 7500\n",
      "ACCURACY: \n",
      "0.6993\n",
      "\n",
      "\n",
      "ON STEP: 7600\n",
      "ACCURACY: \n",
      "0.6871\n",
      "\n",
      "\n",
      "ON STEP: 7700\n",
      "ACCURACY: \n",
      "0.6947\n",
      "\n",
      "\n",
      "ON STEP: 7800\n",
      "ACCURACY: \n",
      "0.6946\n",
      "\n",
      "\n",
      "ON STEP: 7900\n",
      "ACCURACY: \n",
      "0.6963\n",
      "\n",
      "\n",
      "ON STEP: 8000\n",
      "ACCURACY: \n",
      "0.6978\n",
      "\n",
      "\n",
      "ON STEP: 8100\n",
      "ACCURACY: \n",
      "0.7007\n",
      "\n",
      "\n",
      "ON STEP: 8200\n",
      "ACCURACY: \n",
      "0.6968\n",
      "\n",
      "\n",
      "ON STEP: 8300\n",
      "ACCURACY: \n",
      "0.6965\n",
      "\n",
      "\n",
      "ON STEP: 8400\n",
      "ACCURACY: \n",
      "0.6985\n",
      "\n",
      "\n",
      "ON STEP: 8500\n",
      "ACCURACY: \n",
      "0.6921\n",
      "\n",
      "\n",
      "ON STEP: 8600\n",
      "ACCURACY: \n",
      "0.7027\n",
      "\n",
      "\n",
      "ON STEP: 8700\n",
      "ACCURACY: \n",
      "0.6953\n",
      "\n",
      "\n",
      "ON STEP: 8800\n",
      "ACCURACY: \n",
      "0.6922\n",
      "\n",
      "\n",
      "ON STEP: 8900\n",
      "ACCURACY: \n",
      "0.698\n",
      "\n",
      "\n",
      "ON STEP: 9000\n",
      "ACCURACY: \n",
      "0.6964\n",
      "\n",
      "\n",
      "ON STEP: 9100\n",
      "ACCURACY: \n",
      "0.7025\n",
      "\n",
      "\n",
      "ON STEP: 9200\n",
      "ACCURACY: \n",
      "0.6942\n",
      "\n",
      "\n",
      "ON STEP: 9300\n",
      "ACCURACY: \n",
      "0.698\n",
      "\n",
      "\n",
      "ON STEP: 9400\n",
      "ACCURACY: \n",
      "0.7055\n",
      "\n",
      "\n",
      "ON STEP: 9500\n",
      "ACCURACY: \n",
      "0.6973\n",
      "\n",
      "\n",
      "ON STEP: 9600\n",
      "ACCURACY: \n",
      "0.6989\n",
      "\n",
      "\n",
      "ON STEP: 9700\n",
      "ACCURACY: \n",
      "0.6911\n",
      "\n",
      "\n",
      "ON STEP: 9800\n",
      "ACCURACY: \n",
      "0.6844\n",
      "\n",
      "\n",
      "ON STEP: 9900\n",
      "ACCURACY: \n",
      "0.7024\n",
      "\n",
      "\n"
     ]
    }
   ],
   "source": [
    "with tf. Session () as sess:\n",
    "    \n",
    "    \n",
    "    # First, run vars_initializer to initialize all variables\n",
    "    sess.run(vars_initializer)\n",
    "    \n",
    "    for i in range (steps):\n",
    "        \n",
    "        \n",
    "        # Each batch: 100 images\n",
    "        batch =ch.next_batch(100)\n",
    "    \n",
    "        \n",
    "        # Train the model cnn_trainer\n",
    "        # Dropout keep_prob (% to keep) : 0.5 ..> 50% will be dropped out \n",
    "        \n",
    "        sess.run(cnn_trainer, feed_dict={x:batch[0], y_true:batch[1], hold_prob :0.5})\n",
    "        \n",
    "        # Test the model: at each 100th step\n",
    "        # Run this block of code for each 100 times of training, each time run a batch\n",
    "        if i % 100 == 0:\n",
    "            \n",
    "            print('ON STEP: {}'.format(i) )\n",
    "            print('ACCURACY: ')\n",
    "            \n",
    "            # Compare to find matches of y_pred and y_true\n",
    "            matches =tf.equal( tf.argmax(y_pred,1 ), tf.argmax(y_true,1) )\n",
    "            \n",
    "            \n",
    "            # Cast the matches from integers to tf.float32\n",
    "           # Calculate the accuracy using the mean of matches\n",
    "        \n",
    "            acc=tf.reduce_mean(tf.cast(matches,tf.float32) )\n",
    "            \n",
    "           # Test the model at each 100th step\n",
    "           # Using the test dataset\n",
    "           # Dropout: NONE because of test, not training\n",
    "    \n",
    "            \n",
    "            print(sess.run(acc, feed_dict = {x:ch.test_images ,y_true :ch.test_labels, \\\n",
    "                                                                 hold_prob: 1.0} ) )\n",
    "           \n",
    "            print('\\n')\n",
    "            \n",
    "        \n",
    "           \n"
   ]
  },
  {
   "cell_type": "code",
   "execution_count": null,
   "metadata": {},
   "outputs": [],
   "source": []
  }
 ],
 "metadata": {
  "kernelspec": {
   "display_name": "Python 3",
   "language": "python",
   "name": "python3"
  },
  "language_info": {
   "codemirror_mode": {
    "name": "ipython",
    "version": 3
   },
   "file_extension": ".py",
   "mimetype": "text/x-python",
   "name": "python",
   "nbconvert_exporter": "python",
   "pygments_lexer": "ipython3",
   "version": "3.5.3"
  }
 },
 "nbformat": 4,
 "nbformat_minor": 2
}
