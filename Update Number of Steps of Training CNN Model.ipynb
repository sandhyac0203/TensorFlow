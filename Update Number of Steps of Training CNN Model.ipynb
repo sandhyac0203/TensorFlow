{
 "cells": [
  {
   "cell_type": "markdown",
   "metadata": {},
   "source": [
    "## Submission Requirement # 5"
   ]
  },
  {
   "cell_type": "markdown",
   "metadata": {},
   "source": [
    "### CNN for image recognition with MNIST dataset:"
   ]
  },
  {
   "cell_type": "code",
   "execution_count": 1,
   "metadata": {},
   "outputs": [],
   "source": [
    "# Import the required libraries\n",
    "\n",
    "import numpy as np\n",
    "import pandas as pd\n",
    "\n",
    "import matplotlib.pyplot as plt\n",
    "%matplotlib inline\n",
    "\n",
    "import tensorflow as tf"
   ]
  },
  {
   "cell_type": "code",
   "execution_count": 2,
   "metadata": {},
   "outputs": [],
   "source": [
    "# import dataset from the api\n",
    "from tensorflow.examples.tutorials.mnist import input_data"
   ]
  },
  {
   "cell_type": "code",
   "execution_count": 3,
   "metadata": {},
   "outputs": [
    {
     "name": "stdout",
     "output_type": "stream",
     "text": [
      "WARNING:tensorflow:From <ipython-input-3-0eda2f9c2d4a>:1: read_data_sets (from tensorflow.contrib.learn.python.learn.datasets.mnist) is deprecated and will be removed in a future version.\n",
      "Instructions for updating:\n",
      "Please use alternatives such as official/mnist/dataset.py from tensorflow/models.\n",
      "WARNING:tensorflow:From /usr/local/lib/python3.5/dist-packages/tensorflow/contrib/learn/python/learn/datasets/mnist.py:260: maybe_download (from tensorflow.contrib.learn.python.learn.datasets.base) is deprecated and will be removed in a future version.\n",
      "Instructions for updating:\n",
      "Please write your own downloading logic.\n",
      "WARNING:tensorflow:From /usr/local/lib/python3.5/dist-packages/tensorflow/contrib/learn/python/learn/datasets/mnist.py:262: extract_images (from tensorflow.contrib.learn.python.learn.datasets.mnist) is deprecated and will be removed in a future version.\n",
      "Instructions for updating:\n",
      "Please use tf.data to implement this functionality.\n",
      "Extracting MNIST_data/train-images-idx3-ubyte.gz\n",
      "WARNING:tensorflow:From /usr/local/lib/python3.5/dist-packages/tensorflow/contrib/learn/python/learn/datasets/mnist.py:267: extract_labels (from tensorflow.contrib.learn.python.learn.datasets.mnist) is deprecated and will be removed in a future version.\n",
      "Instructions for updating:\n",
      "Please use tf.data to implement this functionality.\n",
      "Extracting MNIST_data/train-labels-idx1-ubyte.gz\n",
      "WARNING:tensorflow:From /usr/local/lib/python3.5/dist-packages/tensorflow/contrib/learn/python/learn/datasets/mnist.py:110: dense_to_one_hot (from tensorflow.contrib.learn.python.learn.datasets.mnist) is deprecated and will be removed in a future version.\n",
      "Instructions for updating:\n",
      "Please use tf.one_hot on tensors.\n",
      "Extracting MNIST_data/t10k-images-idx3-ubyte.gz\n",
      "Extracting MNIST_data/t10k-labels-idx1-ubyte.gz\n",
      "WARNING:tensorflow:From /usr/local/lib/python3.5/dist-packages/tensorflow/contrib/learn/python/learn/datasets/mnist.py:290: DataSet.__init__ (from tensorflow.contrib.learn.python.learn.datasets.mnist) is deprecated and will be removed in a future version.\n",
      "Instructions for updating:\n",
      "Please use alternatives such as official/mnist/dataset.py from tensorflow/models.\n"
     ]
    }
   ],
   "source": [
    "mnist=input_data.read_data_sets(\"MNIST_data/\",one_hot=True)"
   ]
  },
  {
   "cell_type": "code",
   "execution_count": 4,
   "metadata": {},
   "outputs": [
    {
     "data": {
      "text/plain": [
       "tensorflow.contrib.learn.python.learn.datasets.base.Datasets"
      ]
     },
     "execution_count": 4,
     "metadata": {},
     "output_type": "execute_result"
    }
   ],
   "source": [
    "type(mnist)"
   ]
  },
  {
   "cell_type": "code",
   "execution_count": 5,
   "metadata": {},
   "outputs": [
    {
     "data": {
      "text/plain": [
       "55000"
      ]
     },
     "execution_count": 5,
     "metadata": {},
     "output_type": "execute_result"
    }
   ],
   "source": [
    "# To check how many images we get for training and testing\n",
    "mnist.train.num_examples"
   ]
  },
  {
   "cell_type": "code",
   "execution_count": 6,
   "metadata": {},
   "outputs": [
    {
     "data": {
      "text/plain": [
       "10000"
      ]
     },
     "execution_count": 6,
     "metadata": {},
     "output_type": "execute_result"
    }
   ],
   "source": [
    "mnist.test.num_examples"
   ]
  },
  {
   "cell_type": "markdown",
   "metadata": {},
   "source": [
    "### Preparation for Building CNN Model : Define Supporting Functions"
   ]
  },
  {
   "cell_type": "markdown",
   "metadata": {},
   "source": [
    "#### Initialize Weights in Filter"
   ]
  },
  {
   "cell_type": "code",
   "execution_count": 7,
   "metadata": {},
   "outputs": [],
   "source": [
    "# This function returns a tf.Variable used to store weights in a filter\n",
    "# This variable is initialized with values that can be used to initialize weights\n",
    "# The values are random numbers\n",
    "\n",
    "def initialize_weights(filter_shape):\n",
    "    init_random_dist =tf.truncated_normal(filter_shape, stddev=0.1)\n",
    "    return (tf.Variable(init_random_dist) )"
   ]
  },
  {
   "cell_type": "markdown",
   "metadata": {},
   "source": [
    "#### Initialize Bias"
   ]
  },
  {
   "cell_type": "code",
   "execution_count": 8,
   "metadata": {},
   "outputs": [],
   "source": [
    "# This function returns a tf.Variable used to store bias\n",
    "# This variable is initialized with values that can be used to initialize bias\n",
    "# The value is initialized to 0.1\n",
    "\n",
    "def initialize_bias(bias_shape):\n",
    "    init_bias_vals =tf.constant(0.1, shape=bias_shape)\n",
    "    return (tf.Variable(init_bias_vals) )"
   ]
  },
  {
   "cell_type": "markdown",
   "metadata": {},
   "source": [
    "#### Setup Convolutional Layer and Perform Convolution Computation : Dot Product (x * W)"
   ]
  },
  {
   "cell_type": "code",
   "execution_count": 9,
   "metadata": {},
   "outputs": [],
   "source": [
    "# Define a function to setup a convolutional layer (conv 2d)\n",
    "# Parameters:\n",
    "# ..) Inputs : [batch, H, W, Channels]\n",
    "#..) filter_shape:\n",
    "#[filter H, filter W, in_channels(in_depth=in_num_filters),out_channels(out_depth=out_num_filters)]\n",
    "# for example : [5,5,1,32]\n",
    "# Return : Outputs of the layer:The dot_product(inputs, filter_shape):\n",
    "\n",
    "def create_convolution_layer_and_compute_dot_product(inputs,filter_shape):\n",
    "    filter_initialized_with_weights= initialize_weights(filter_shape)\n",
    "    conv_layer_outputs=tf.nn.conv2d(inputs,filter_initialized_with_weights,strides=[1,1,1,1],padding='SAME')\n",
    "    return(conv_layer_outputs)\n",
    "    "
   ]
  },
  {
   "cell_type": "markdown",
   "metadata": {},
   "source": [
    "#### Setup a ReLU Layer and Perform Computation : Dot Product + Bias (x .W+b)"
   ]
  },
  {
   "cell_type": "code",
   "execution_count": 10,
   "metadata": {},
   "outputs": [],
   "source": [
    "# Define a function\n",
    "#..) First,  to setup a reLU layer: an activation function layer\n",
    "#..) Then, perform the computation : dot product +bias (x * w) +b\n",
    "# ReLU : Rectified Linear Unit - a popular activation function in CNN\n",
    "# In this layer, the bias has been initialized\n",
    "\n",
    "# Parameters:\n",
    "# ..) Inputs : Outputs from the preceding convolution layer : Dot product inputs*weights\n",
    "# ..) filter_shape\n",
    "#[filter H, filter W, in_channels(in_depth=in_num_filters),out_channels(out_depth=out_num_filters)]\n",
    "# for example : [5,5,1,32]\n",
    "# Return : Outputs of the layer: dot product +b : (x *W)+ b\n",
    "\n",
    "\n",
    "def create_relu_layer_and_compute_dot_product_plus_b(inputs,filter_shape):\n",
    "    b=initialize_bias( [filter_shape[3] ])\n",
    "    relu_layer_outputs=tf.nn.relu(inputs + b)\n",
    "    return(relu_layer_outputs)"
   ]
  },
  {
   "cell_type": "markdown",
   "metadata": {},
   "source": [
    "#### Setup a Pooling Layer and Reduce Spatial Size"
   ]
  },
  {
   "cell_type": "code",
   "execution_count": 11,
   "metadata": {},
   "outputs": [],
   "source": [
    "# Define a function\n",
    "#..) First,  to create a pooling layer\n",
    "#..) Then, to reduce the spatial size of the inputs data\n",
    "\n",
    "# Pooling Method : Max Pooling\n",
    "# Kernel size : 2 X 2\n",
    "# Stride : 2\n",
    "\n",
    "# Parameters:\n",
    "# ..) Inputs : Outputs from the preceding layer \n",
    "# ..) Return : Outputs of the layer\n",
    "\n",
    "def create_maxpool2by2_and_reduce_spatial_size(inputs):\n",
    "    pooling_layer_outputs = tf.nn.max_pool(inputs, ksize=[1,2,2,1],strides=[1,2,2,1],padding='SAME')\n",
    "    return(pooling_layer_outputs)\n",
    "                                           \n",
    "                                           \n",
    "                                           \n",
    "                                           "
   ]
  },
  {
   "cell_type": "markdown",
   "metadata": {},
   "source": [
    "#### Setup Fully Connected Layer and Perform Computation:(inputs * Weights) +Bias"
   ]
  },
  {
   "cell_type": "code",
   "execution_count": 12,
   "metadata": {},
   "outputs": [],
   "source": [
    "# Define a function to set up a fully connected layer\n",
    "# Also perform computation: (Dot Product (inputs*weights))+ bias\n",
    "# Return the results\n",
    "# Parameters:\n",
    "#..) inputs:  Outputs of the preceding layer\n",
    "#..) size: The size of the outputs, t.e. number of out_channels\n",
    "\n",
    "def create_fully_connected_layer_and_compute_dotproduct_plus_bias (inputs, output_size):\n",
    "    input_size = int(inputs.get_shape() [1] )\n",
    "    W = initialize_weights([input_size, output_size ] )\n",
    "    b = initialize_bias ([output_size])\n",
    "    fc_xW_plus_bias_outputs = tf.matmul(inputs, W) + b\n",
    "    return(fc_xW_plus_bias_outputs)\n",
    "    "
   ]
  },
  {
   "cell_type": "markdown",
   "metadata": {},
   "source": [
    "### Phase 1 : Build the Convolutional Neural Network "
   ]
  },
  {
   "cell_type": "markdown",
   "metadata": {},
   "source": [
    "#### Create placeholders for inputs and labels : x & y_true"
   ]
  },
  {
   "cell_type": "code",
   "execution_count": 13,
   "metadata": {},
   "outputs": [],
   "source": [
    "# PLACEHOLDER\n",
    "\n",
    "# Create a placeholder for the inputs data : x\n",
    "# x : a 2D array\n",
    "# x: a placeholder that can hold any number of rows/record\n",
    "# ..) Each row/record is a vector ( 1D array ) to hold data for one image\n",
    "# ..) Each row/record/image has 784 values /elements : 1 pixel =  value (28 *28 =784 )\n",
    "\n",
    "x = tf.placeholder (tf.float32, shape = [None, 784])"
   ]
  },
  {
   "cell_type": "code",
   "execution_count": 14,
   "metadata": {},
   "outputs": [],
   "source": [
    "# PLACEHOLDER\n",
    "\n",
    "# Create a placeholder for the labels of the inputs data  : y_true\n",
    "# y_true : a 2D array\n",
    "# y_true : Can hold any number of rows/records\n",
    "# Each row/record is a vector (1D-array) of 10 values that indicate a digit between 0 ….9\n",
    "# ..) Each row is the label of one image , i.e. one digit\n",
    "# —) Each row/record : The label is stored in the on-hot format\n",
    "# ..) One-hot format :  [ 1 0 0 0 0 0 0 0 0 0 0 ] —> 0 ; [ 0 0 0 0 0 0 0 0 1 0]—>8\n",
    "\n",
    "y_true= tf.placeholder (tf.float32, shape = [None, 10 ])"
   ]
  },
  {
   "cell_type": "code",
   "execution_count": 16,
   "metadata": {},
   "outputs": [],
   "source": [
    "#### Reshape the Input placeholder X\n",
    "# Prepare feeding inputs into the conv layer\n",
    "# Reshape the input x: A placeholder\n",
    "# From 1D array (vector)—> Original input shape : 4D :[Batch, H, W, depth channels ]\n",
    "# Depth = color channels : gray scale =1\n",
    "# Reshaped inputs : x_image [1,28,28,1]\n",
    "\n",
    "x_image=tf.reshape(x,[-1,28,28,1])"
   ]
  },
  {
   "cell_type": "markdown",
   "metadata": {},
   "source": [
    "#### Create the Convolutional layer, ReLU layer, and perform computation : x * w+ b(only one layer)"
   ]
  },
  {
   "cell_type": "code",
   "execution_count": 17,
   "metadata": {},
   "outputs": [],
   "source": [
    "# Create the convolution layer (only one layer)\n",
    "# Inputs: x_image, reshape inputs with shape [1,28,28,1]\n",
    "# filter _shape : [5,5,1,32]\n",
    "# ..) Filter : 5* 5\n",
    "# ..) Input channels : 1\n",
    "# ..) Output channels : 32\n",
    "\n",
    "# Create the 1st convolution layer\n",
    "# Then learn/extract the features, get the results (outputs) : Dot product of inputs*weights\n",
    "# Return the outputs of the layer\n",
    "\n",
    "conv_layer_1_outputs \\\n",
    "  =create_convolution_layer_and_compute_dot_product(x_image,filter_shape=[5,5,1,32])"
   ]
  },
  {
   "cell_type": "markdown",
   "metadata": {},
   "source": [
    "#### Create the ReLU layer for the convolution layer"
   ]
  },
  {
   "cell_type": "code",
   "execution_count": 18,
   "metadata": {},
   "outputs": [],
   "source": [
    "# Accept the outputs from the conv layer as the inputs\n",
    "# Perform the computation at the layer : add inputs+ bias\n",
    "# Return the outputs of the layer\n",
    "\n",
    "conv_relu_layer_1_outputs \\\n",
    "  =create_relu_layer_and_compute_dot_product_plus_b(conv_layer_1_outputs,filter_shape=[5,5,1,32])\n"
   ]
  },
  {
   "cell_type": "markdown",
   "metadata": {},
   "source": [
    "#### Create the Pooling Layer and reduce spatial size"
   ]
  },
  {
   "cell_type": "code",
   "execution_count": 19,
   "metadata": {},
   "outputs": [],
   "source": [
    "# Create the 1st pooling layer\n",
    "# Then reduce the spatial size of the input data\n",
    "# Return : Outputs of the layer\n",
    "pooling_layer_1_outputs=create_maxpool2by2_and_reduce_spatial_size(conv_relu_layer_1_outputs)"
   ]
  },
  {
   "cell_type": "markdown",
   "metadata": {},
   "source": [
    "#### Reshape/Flatten Data Making it Ready to be Def into 1st FC layer"
   ]
  },
  {
   "cell_type": "code",
   "execution_count": 20,
   "metadata": {},
   "outputs": [],
   "source": [
    "# Reshape and flatten the output of the 2nd pooling layer\n",
    "# Prepare to feed the output data into the 1st fully connected layer\n",
    "\n",
    "pooling_layer_1_outputs_flat=tf.reshape(pooling_layer_1_outputs,[-1, 14*14*32])"
   ]
  },
  {
   "cell_type": "markdown",
   "metadata": {},
   "source": [
    "#### Create 1st FC Layer, ReLU Layer, and output Data to Dropout Layer"
   ]
  },
  {
   "cell_type": "code",
   "execution_count": 21,
   "metadata": {},
   "outputs": [],
   "source": [
    "# First create  the FC (Fully Connected ) layer\n",
    "# Feed the output(already flattened ) of the 2nd pooling layer as the inputs into this layer\n",
    "# Then perform the computation : dot product _bias ( x *W) + b\n",
    "\n",
    "# Parameters:\n",
    "# ..) pooling_layer_2_outputs_flat\n",
    "# ..) output_size: 1024 out channels\n",
    "\n",
    "# Return: Outputs of the computation (x*W)_b\n",
    "\n",
    "fc_layer_1_outputs \\\n",
    "   = create_fully_connected_layer_and_compute_dotproduct_plus_bias (pooling_layer_1_outputs_flat,output_size =1024)\n",
    "\n",
    "fc_relu_layer_1_outputs=tf.nn.relu(fc_layer_1_outputs)\n"
   ]
  },
  {
   "cell_type": "markdown",
   "metadata": {},
   "source": [
    "#### Create Dropout Layer and Dropout of Outputs Randomly"
   ]
  },
  {
   "cell_type": "code",
   "execution_count": 22,
   "metadata": {},
   "outputs": [],
   "source": [
    "# Declare a placeholder to hold the value of probability (percentage x) to keep:\n",
    "# i.e. the % of total output channels that will be kept\n",
    "# e.g. keep_prob=hold_prob= 50% —> keep 50 %..> Dropout 50%\n",
    "# which nodes/channels to keep or dropout : selected randomly\n",
    "\n",
    "hold_prob= tf.placeholder (tf.float32)"
   ]
  },
  {
   "cell_type": "code",
   "execution_count": 23,
   "metadata": {},
   "outputs": [],
   "source": [
    "# Dropout\n",
    "# set the outputs to 0 (zero) so that they will be ignored in the next layer\n",
    "\n",
    "fc_dropouts_outputs=tf.nn.dropout(fc_relu_layer_1_outputs, keep_prob=hold_prob)"
   ]
  },
  {
   "cell_type": "markdown",
   "metadata": {},
   "source": [
    "#### Create Final FC Layer, Compute (x.W_b) and produce final outputs"
   ]
  },
  {
   "cell_type": "code",
   "execution_count": 24,
   "metadata": {},
   "outputs": [],
   "source": [
    "# Create the final FC layer\n",
    "# Then compute: x*W_b\n",
    "# parameters:\n",
    "# ..) fc_dropouts_outputs : Outputs from the dropout  layer\n",
    "# ..)\n",
    "\n",
    "# Return y_pred: final predicted outputs, I.e., final classification outputs\n",
    "\n",
    "y_pred = create_fully_connected_layer_and_compute_dotproduct_plus_bias(fc_dropouts_outputs,output_size=10)"
   ]
  },
  {
   "cell_type": "markdown",
   "metadata": {},
   "source": [
    "#### Define Loss Function and Calculate Softmax Cross Entropy Loss"
   ]
  },
  {
   "cell_type": "code",
   "execution_count": 25,
   "metadata": {},
   "outputs": [
    {
     "name": "stdout",
     "output_type": "stream",
     "text": [
      "WARNING:tensorflow:From <ipython-input-25-703d862e696e>:5: softmax_cross_entropy_with_logits (from tensorflow.python.ops.nn_ops) is deprecated and will be removed in a future version.\n",
      "Instructions for updating:\n",
      "\n",
      "Future major versions of TensorFlow will allow gradients to flow\n",
      "into the labels input on backprop by default.\n",
      "\n",
      "See `tf.nn.softmax_cross_entropy_with_logits_v2`.\n",
      "\n"
     ]
    }
   ],
   "source": [
    "# Define loss function :cross-entropy with logins . i.e. with the final outputs\n",
    "# Calculate the softmax entropy loss\n",
    "\n",
    "\n",
    "softmax_cross_entropy_loss=tf.nn.softmax_cross_entropy_with_logits(labels=y_true, logits=y_pred)"
   ]
  },
  {
   "cell_type": "code",
   "execution_count": 26,
   "metadata": {},
   "outputs": [],
   "source": [
    "# Compute the means of losses\n",
    "\n",
    "cross_entropy_mean = tf.reduce_mean(softmax_cross_entropy_loss)"
   ]
  },
  {
   "cell_type": "markdown",
   "metadata": {},
   "source": [
    "#### Create an Optimizer to Optimize CNN Model and set learning rate"
   ]
  },
  {
   "cell_type": "code",
   "execution_count": 27,
   "metadata": {},
   "outputs": [],
   "source": [
    "# Get an ADAM optimizer\n",
    "\n",
    "optimizer = tf.train.AdamOptimizer(learning_rate=0.001)"
   ]
  },
  {
   "cell_type": "markdown",
   "metadata": {},
   "source": [
    "#### Create a Trainer to Train CNN Model"
   ]
  },
  {
   "cell_type": "code",
   "execution_count": 28,
   "metadata": {},
   "outputs": [],
   "source": [
    "# Create a CNN model trainer that can train the model\n",
    "# And optimizer the model by minimizing the softmax cross_entropy loss\n",
    "\n",
    "cnn_trainer = optimizer.minimize (cross_entropy_mean)"
   ]
  },
  {
   "cell_type": "markdown",
   "metadata": {},
   "source": [
    "### Train and Test CNN Deep Learning Model on MNIST Dataset"
   ]
  },
  {
   "cell_type": "markdown",
   "metadata": {},
   "source": [
    "#### Create a variable initializer to initialize All Variables"
   ]
  },
  {
   "cell_type": "code",
   "execution_count": 29,
   "metadata": {},
   "outputs": [],
   "source": [
    "# Get a variable initializer\n",
    "\n",
    "vars_initializer = tf.global_variables_initializer()"
   ]
  },
  {
   "cell_type": "code",
   "execution_count": 30,
   "metadata": {},
   "outputs": [],
   "source": [
    "# x: mnist.train: 50000 images\n",
    "# Each time of training (run the whole process ) = 1 step\n",
    "# Each step, i.e., each time of training : Use one batch of inputs\n",
    "# batch size = 50 images —> Total number of batches : 50000/50 = 1000 batches\n",
    "# steps = 3000: Finish the training after running 3000 times\n",
    "\n",
    "steps = 3000\n"
   ]
  },
  {
   "cell_type": "markdown",
   "metadata": {},
   "source": [
    "#### Run tf.Session () to Train and test  Deep Learning CNN Model"
   ]
  },
  {
   "cell_type": "code",
   "execution_count": 31,
   "metadata": {},
   "outputs": [
    {
     "name": "stdout",
     "output_type": "stream",
     "text": [
      "ON STEP: 0\n",
      "ACCURACY: \n",
      "0.0998\n",
      "\n",
      "\n",
      "ON STEP: 100\n",
      "ACCURACY: \n",
      "0.9037\n",
      "\n",
      "\n",
      "ON STEP: 200\n",
      "ACCURACY: \n",
      "0.9384\n",
      "\n",
      "\n",
      "ON STEP: 300\n",
      "ACCURACY: \n",
      "0.944\n",
      "\n",
      "\n",
      "ON STEP: 400\n",
      "ACCURACY: \n",
      "0.9589\n",
      "\n",
      "\n",
      "ON STEP: 500\n",
      "ACCURACY: \n",
      "0.9668\n",
      "\n",
      "\n",
      "ON STEP: 600\n",
      "ACCURACY: \n",
      "0.9697\n",
      "\n",
      "\n",
      "ON STEP: 700\n",
      "ACCURACY: \n",
      "0.9746\n",
      "\n",
      "\n",
      "ON STEP: 800\n",
      "ACCURACY: \n",
      "0.9732\n",
      "\n",
      "\n",
      "ON STEP: 900\n",
      "ACCURACY: \n",
      "0.9721\n",
      "\n",
      "\n",
      "ON STEP: 1000\n",
      "ACCURACY: \n",
      "0.9775\n",
      "\n",
      "\n",
      "ON STEP: 1100\n",
      "ACCURACY: \n",
      "0.9782\n",
      "\n",
      "\n",
      "ON STEP: 1200\n",
      "ACCURACY: \n",
      "0.9776\n",
      "\n",
      "\n",
      "ON STEP: 1300\n",
      "ACCURACY: \n",
      "0.9785\n",
      "\n",
      "\n",
      "ON STEP: 1400\n",
      "ACCURACY: \n",
      "0.9826\n",
      "\n",
      "\n",
      "ON STEP: 1500\n",
      "ACCURACY: \n",
      "0.9822\n",
      "\n",
      "\n",
      "ON STEP: 1600\n",
      "ACCURACY: \n",
      "0.9828\n",
      "\n",
      "\n",
      "ON STEP: 1700\n",
      "ACCURACY: \n",
      "0.986\n",
      "\n",
      "\n",
      "ON STEP: 1800\n",
      "ACCURACY: \n",
      "0.9827\n",
      "\n",
      "\n",
      "ON STEP: 1900\n",
      "ACCURACY: \n",
      "0.9837\n",
      "\n",
      "\n",
      "ON STEP: 2000\n",
      "ACCURACY: \n",
      "0.983\n",
      "\n",
      "\n",
      "ON STEP: 2100\n",
      "ACCURACY: \n",
      "0.9834\n",
      "\n",
      "\n",
      "ON STEP: 2200\n",
      "ACCURACY: \n",
      "0.9832\n",
      "\n",
      "\n",
      "ON STEP: 2300\n",
      "ACCURACY: \n",
      "0.9852\n",
      "\n",
      "\n",
      "ON STEP: 2400\n",
      "ACCURACY: \n",
      "0.9843\n",
      "\n",
      "\n",
      "ON STEP: 2500\n",
      "ACCURACY: \n",
      "0.9843\n",
      "\n",
      "\n",
      "ON STEP: 2600\n",
      "ACCURACY: \n",
      "0.9842\n",
      "\n",
      "\n",
      "ON STEP: 2700\n",
      "ACCURACY: \n",
      "0.9853\n",
      "\n",
      "\n",
      "ON STEP: 2800\n",
      "ACCURACY: \n",
      "0.9856\n",
      "\n",
      "\n",
      "ON STEP: 2900\n",
      "ACCURACY: \n",
      "0.9862\n",
      "\n",
      "\n"
     ]
    }
   ],
   "source": [
    "with tf. Session () as sess:\n",
    "    \n",
    "    \n",
    "    # First, run vars_initializer to initialize all variables\n",
    "    sess.run(vars_initializer)\n",
    "    \n",
    "    for i in range (steps):\n",
    "        \n",
    "        \n",
    "        # Each batch: 50 images\n",
    "        batch_x,batch_y =mnist.train.next_batch(50)\n",
    "        \n",
    "        # Train the model cnn_trainer\n",
    "        # Dropout keep_prob (% to keep) : 0.5 ..> 50% will be dropped out \n",
    "        \n",
    "        sess.run(cnn_trainer, feed_dict={x:batch_x, y_true:batch_y, hold_prob :0.5})\n",
    "        \n",
    "        # Test the model: at each 100th step\n",
    "        # Run this block of code for each 100 times of training, each time run a batch\n",
    "        if i % 100 == 0:\n",
    "            \n",
    "            print('ON STEP: {}'.format(i) )\n",
    "            print('ACCURACY: ')\n",
    "            \n",
    "            # Compare to find matches of y_pred and y_true\n",
    "            matches =tf.equal( tf.argmax(y_pred, axis =1 ), tf.argmax(y_true,  axis =1) )\n",
    "            \n",
    "            \n",
    "        \n",
    "           # Cast the matches from integers to tf.float32\n",
    "           # Calculate the accuracy using the mean of matches\n",
    "        \n",
    "            acc=tf.reduce_mean(tf.cast(matches,tf.float32) )\n",
    "            \n",
    "           # Test the model at each 100th step\n",
    "           # Using the test dataset\n",
    "           # Dropout: NONE because of test, not training\n",
    "            \n",
    "            test_accuracy=sess.run(acc, feed_dict = {x: mnist.test.images , \\\n",
    "                                                                 y_true: mnist.test.labels, \\\n",
    "                                                                 hold_prob: 1.0}  )\n",
    "            print(test_accuracy)\n",
    "            print('\\n')\n",
    "            \n",
    "            \n",
    "            \n",
    "        \n",
    "\n",
    "        \n",
    "           \n",
    "            "
   ]
  },
  {
   "cell_type": "code",
   "execution_count": null,
   "metadata": {},
   "outputs": [],
   "source": []
  }
 ],
 "metadata": {
  "kernelspec": {
   "display_name": "Python 3",
   "language": "python",
   "name": "python3"
  },
  "language_info": {
   "codemirror_mode": {
    "name": "ipython",
    "version": 3
   },
   "file_extension": ".py",
   "mimetype": "text/x-python",
   "name": "python",
   "nbconvert_exporter": "python",
   "pygments_lexer": "ipython3",
   "version": "3.5.3"
  }
 },
 "nbformat": 4,
 "nbformat_minor": 2
}
