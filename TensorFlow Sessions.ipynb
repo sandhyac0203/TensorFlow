{
 "cells": [
  {
   "cell_type": "markdown",
   "metadata": {},
   "source": [
    "## Initialization and following ops must be in the same session- in the same block of a tf session"
   ]
  },
  {
   "cell_type": "markdown",
   "metadata": {},
   "source": [
    "### with tf.Session as"
   ]
  },
  {
   "cell_type": "code",
   "execution_count": 1,
   "metadata": {},
   "outputs": [],
   "source": [
    "import tensorflow as tf\n",
    "\n",
    "# create a constant tensor : a matrix of (3,3)\n",
    "# the values are random between 0 and 1\n",
    "aTensor=tf.random_uniform((3,3),0,1)\n",
    "\n",
    "# declare a variable inisalized with atensor\n",
    "\n",
    "aTfVar=tf.Variable(initial_value=aTensor)"
   ]
  },
  {
   "cell_type": "code",
   "execution_count": 2,
   "metadata": {},
   "outputs": [],
   "source": [
    "# Get an initializer operation to initialize the variable\n",
    "\n",
    "anInitializer = tf.global_variables_initializer()"
   ]
  },
  {
   "cell_type": "code",
   "execution_count": 3,
   "metadata": {},
   "outputs": [
    {
     "name": "stdout",
     "output_type": "stream",
     "text": [
      "[[0.4417106  0.73774505 0.5244385 ]\n",
      " [0.60493183 0.3803625  0.49365628]\n",
      " [0.42586565 0.36597776 0.7435607 ]]\n"
     ]
    }
   ],
   "source": [
    "# Initialize the variable and prepare the print of the contents of\n",
    "\n",
    "with tf.Session() as sess:\n",
    "    sess.run(anInitializer)\n",
    "    results=sess.run(aTfVar)\n",
    "    print(results)"
   ]
  },
  {
   "cell_type": "code",
   "execution_count": 4,
   "metadata": {},
   "outputs": [
    {
     "name": "stdout",
     "output_type": "stream",
     "text": [
      "[[0.5563413  0.6062114  0.24732554]\n",
      " [0.50989187 0.03952432 0.9868685 ]\n",
      " [0.6896409  0.3028692  0.92136824]]\n"
     ]
    }
   ],
   "source": [
    "# combine 2 statements into one\n",
    "\n",
    "with tf.Session() as sess:\n",
    "    sess.run(anInitializer)\n",
    "    print(sess.run(aTfVar))"
   ]
  },
  {
   "cell_type": "code",
   "execution_count": 5,
   "metadata": {},
   "outputs": [
    {
     "data": {
      "text/plain": [
       "' CAUSE ERROR\\nwith tf.Session()as sess:\\n    results=sess.run(aTfVar_2)\\n'"
      ]
     },
     "execution_count": 5,
     "metadata": {},
     "output_type": "execute_result"
    }
   ],
   "source": [
    "# NOTES : Error if without initalizer\n",
    "import tensorflow as tf\n",
    "aTensor = tf.random_uniform((3,3),0,1)\n",
    "aTfVar_2= tf.Variable(initial_value=aTensor)\n",
    "anInitializer=tf.global_variables_initializer()\n",
    "\n",
    "\"\"\" CAUSE ERROR\n",
    "with tf.Session()as sess:\n",
    "    results=sess.run(aTfVar_2)\n",
    "\"\"\"    "
   ]
  },
  {
   "cell_type": "code",
   "execution_count": 6,
   "metadata": {},
   "outputs": [
    {
     "data": {
      "text/plain": [
       "' CAUSE ERROR\\nresults=sess.run(aTfVar_2)\\n'"
      ]
     },
     "execution_count": 6,
     "metadata": {},
     "output_type": "execute_result"
    }
   ],
   "source": [
    "# Notes : Error if not in the same session block of code\n",
    "\n",
    "import tensorflow as tf\n",
    "aTensor = tf.random_uniform((3,3),0,1)\n",
    "aTfVar_2= tf.Variable(initial_value=aTensor)\n",
    "anInitializer=tf.global_variables_initializer()\n",
    "with tf.Session() as sess:\n",
    "    sess.run(anInitializer)\n",
    "\"\"\" CAUSE ERROR\n",
    "results=sess.run(aTfVar_2)\n",
    "\"\"\""
   ]
  },
  {
   "cell_type": "code",
   "execution_count": 7,
   "metadata": {},
   "outputs": [],
   "source": [
    "# Notes: Do Nothing of without \"results=...\"and \"print(...)\"\n",
    "import tensorflow as tf\n",
    "aTensor = tf.random_uniform((3,3),0,1)\n",
    "aTfVar_2= tf.Variable(initial_value=aTensor)\n",
    "anInitializer=tf.global_variables_initializer()\n",
    "with tf.Session() as sess:\n",
    "    sess.run(anInitializer)\n",
    "    sess.run(aTfVar_2)"
   ]
  },
  {
   "cell_type": "markdown",
   "metadata": {},
   "source": [
    "### using Interactive sessions"
   ]
  },
  {
   "cell_type": "markdown",
   "metadata": {},
   "source": [
    "Notes: All the statement between the start and the close of tf.InteractveSession()are included in the same session"
   ]
  },
  {
   "cell_type": "code",
   "execution_count": 8,
   "metadata": {},
   "outputs": [],
   "source": [
    "import tensorflow as tf\n",
    "# start a tf.Interactivesession\n",
    "sess=tf.InteractiveSession()"
   ]
  },
  {
   "cell_type": "code",
   "execution_count": 10,
   "metadata": {},
   "outputs": [],
   "source": [
    "aTensor =tf.random_uniform((3,3),0,1)"
   ]
  },
  {
   "cell_type": "code",
   "execution_count": 11,
   "metadata": {},
   "outputs": [],
   "source": [
    "aTfVar_3=tf.Variable(initial_value=aTensor)"
   ]
  },
  {
   "cell_type": "code",
   "execution_count": 17,
   "metadata": {},
   "outputs": [],
   "source": [
    "# get an initializer operation to initialize the variable\n",
    "\n",
    "anInitializer= tf.global_variables_initializer()\n",
    "\n",
    "\n",
    "# Run the oepration initializer to actually initialize the variable\n",
    "\n",
    "sess.run(anInitializer)\n",
    "\n",
    "\n"
   ]
  },
  {
   "cell_type": "code",
   "execution_count": 18,
   "metadata": {},
   "outputs": [
    {
     "data": {
      "text/plain": [
       "array([[0.23431993, 0.90784085, 0.990983  ],\n",
       "       [0.51216435, 0.3095702 , 0.4171977 ],\n",
       "       [0.260857  , 0.54986095, 0.9466723 ]], dtype=float32)"
      ]
     },
     "execution_count": 18,
     "metadata": {},
     "output_type": "execute_result"
    }
   ],
   "source": [
    "# Display the values of the initialized variable\n",
    "\n",
    "sess.run(aTfVar_3)"
   ]
  },
  {
   "cell_type": "code",
   "execution_count": 19,
   "metadata": {},
   "outputs": [],
   "source": [
    "# Must close the session\n",
    "sess.close()"
   ]
  },
  {
   "cell_type": "markdown",
   "metadata": {},
   "source": [
    "Notes: Display the values without =results=...\" and \"print(...)\"\""
   ]
  },
  {
   "cell_type": "code",
   "execution_count": 22,
   "metadata": {},
   "outputs": [
    {
     "name": "stderr",
     "output_type": "stream",
     "text": [
      "/usr/local/lib/python3.5/dist-packages/tensorflow/python/client/session.py:1702: UserWarning: An interactive session is already active. This can cause out-of-memory errors in some cases. You must explicitly call `InteractiveSession.close()` to release resources held by the other session(s).\n",
      "  warnings.warn('An interactive session is already active. This can '\n"
     ]
    }
   ],
   "source": [
    "sess =tf.InteractiveSession()\n",
    "\n",
    "aTfVar_4=tf.Variable(initial_value=aTensor)\n",
    "anInitializer= tf.global_variables_initializer()\n",
    "sess.run(anInitializer)\n"
   ]
  },
  {
   "cell_type": "code",
   "execution_count": 23,
   "metadata": {},
   "outputs": [
    {
     "data": {
      "text/plain": [
       "array([[0.6114917 , 0.8027923 , 0.08910978],\n",
       "       [0.47394943, 0.7392192 , 0.19350493],\n",
       "       [0.18662214, 0.95374477, 0.2126013 ]], dtype=float32)"
      ]
     },
     "execution_count": 23,
     "metadata": {},
     "output_type": "execute_result"
    }
   ],
   "source": [
    "# Display the values of the initialized variable\n",
    "\n",
    "# without \"results=...\" and \"print(...)\"\n",
    "\n",
    "sess.run(aTfVar_4)"
   ]
  },
  {
   "cell_type": "code",
   "execution_count": 24,
   "metadata": {},
   "outputs": [],
   "source": [
    "sess.close()"
   ]
  },
  {
   "cell_type": "code",
   "execution_count": 25,
   "metadata": {},
   "outputs": [],
   "source": [
    "### Another example\n",
    "\n",
    "import tensorflow as tf\n",
    "sess=tf.InteractiveSession()\n",
    "a=tf.constant(5.0)\n",
    "b=tf.constant(6.0)\n",
    "c=a*b"
   ]
  },
  {
   "cell_type": "code",
   "execution_count": 27,
   "metadata": {},
   "outputs": [
    {
     "name": "stdout",
     "output_type": "stream",
     "text": [
      "30.0\n"
     ]
    }
   ],
   "source": [
    "# we can use 'c.eval() without passing 'sess\n",
    "print(c.eval())"
   ]
  },
  {
   "cell_type": "code",
   "execution_count": 29,
   "metadata": {},
   "outputs": [],
   "source": [
    "sess.close()"
   ]
  },
  {
   "cell_type": "code",
   "execution_count": null,
   "metadata": {},
   "outputs": [],
   "source": []
  }
 ],
 "metadata": {
  "kernelspec": {
   "display_name": "Python 3",
   "language": "python",
   "name": "python3"
  },
  "language_info": {
   "codemirror_mode": {
    "name": "ipython",
    "version": 3
   },
   "file_extension": ".py",
   "mimetype": "text/x-python",
   "name": "python",
   "nbconvert_exporter": "python",
   "pygments_lexer": "ipython3",
   "version": "3.5.3"
  }
 },
 "nbformat": 4,
 "nbformat_minor": 2
}
